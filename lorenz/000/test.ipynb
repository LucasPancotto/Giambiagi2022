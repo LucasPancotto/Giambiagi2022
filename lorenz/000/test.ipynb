{
 "cells": [
  {
   "cell_type": "code",
   "execution_count": 1,
   "metadata": {},
   "outputs": [],
   "source": [
    "import numpy as np\n",
    "\n",
    "\n",
    "# Load data\n",
    "data = np.load('../chaotic.npy')\n",
    "\n",
    "x_data = data[:, 0:1].astype(np.float32)\n",
    "y_data = data[:, 1:4].astype(np.float32)\n",
    "\n",
    "\n"
   ]
  },
  {
   "cell_type": "code",
   "execution_count": 6,
   "metadata": {},
   "outputs": [
    {
     "name": "stdout",
     "output_type": "stream",
     "text": [
      "data shape   :    (2000, 4)\n",
      "x_data shape :    (2000, 1)\n",
      "x_data shape :    (2000, 3)\n",
      "\n",
      " layers    :    [1, 128, 128, 128, 128, 128, 128, 128, 128, 3]\n"
     ]
    }
   ],
   "source": [
    "print('data shape   :   ' , data.shape)\n",
    "print('x_data shape :   ' , x_data.shape)\n",
    "print('y_data shape :   ' , y_data.shape)\n",
    "\n",
    "# NN params\n",
    "layers = [1]+[128]*8+[3]\n",
    "\n",
    "print('\\n layers    :   ' , layers)"
   ]
  },
  {
   "cell_type": "markdown",
   "metadata": {},
   "source": [
    "osea, layer entrada dim de x_data, de salida de y_data"
   ]
  },
  {
   "cell_type": "code",
   "execution_count": null,
   "metadata": {},
   "outputs": [],
   "source": []
  }
 ],
 "metadata": {
  "kernelspec": {
   "display_name": "Python 3",
   "language": "python",
   "name": "python3"
  },
  "language_info": {
   "codemirror_mode": {
    "name": "ipython",
    "version": 3
   },
   "file_extension": ".py",
   "mimetype": "text/x-python",
   "name": "python",
   "nbconvert_exporter": "python",
   "pygments_lexer": "ipython3",
   "version": "3.10.6"
  },
  "orig_nbformat": 4
 },
 "nbformat": 4,
 "nbformat_minor": 2
}
